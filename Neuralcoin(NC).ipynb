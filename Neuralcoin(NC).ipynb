{
 "cells": [
  {
   "cell_type": "code",
   "execution_count": 25,
   "id": "9edd8ac6",
   "metadata": {},
   "outputs": [
    {
     "name": "stdout",
     "output_type": "stream",
     "text": [
      "FIRST :the basic transctions data:--- Subrahmany transfer akhila 2NC-Ramu transfer ganis 2NC-starting string\n",
      "-----------------------------------------------------------------\n",
      "the hash_code:--- ddb8ace8c38773d0a316e527a94892accb63ee9ea32e5bfa57db5e1165b08c8f\n",
      "\n",
      "SECOND:the basic transactions informations: Raghu transfer padeep 1NC-Parveen transfer sharavan 6NC-ddb8ace8c38773d0a316e527a94892accb63ee9ea32e5bfa57db5e1165b08c8f\n",
      "-----------------------------------------------------------------\n",
      "the hash_code:--- 8150770261629376f6c26cbe2b724c718ef32c995203bf31c32bae6909f655fb\n"
     ]
    }
   ],
   "source": [
    "\"\"\"\n",
    "The basic understanding of the crypto currency\n",
    "\n",
    "Neuralcoin : the cryptocurrency\n",
    "considering the basic of the transcations\n",
    "\n",
    "t1:Subrahmany transfer akhila 2NC\n",
    "t2:hegde transfer sharavan 4NC\n",
    "t2:Ramu transfer sarith 2NC\n",
    "t3:Raghu transfer morry 1NC\n",
    "t4:Parveen transfer sharavan 6NC\n",
    "\n",
    "\n",
    "B1(\"the first transction\",t1,t2)--->DG32fsfds B2(\"DG32fsfds\",t3)--->Akj212n B4(\"Akj212n\",t4)  //  the block of the transactions\n",
    "\n",
    "\"\"\"\n",
    "\n",
    "import hashlib\n",
    "# creating the class\n",
    "class NeuralCoine:\n",
    "    \n",
    "    def __init__(self,previous_transactions_list,list_of_transcations):\n",
    "        self.previous_list=previous_transactions_list\n",
    "        self.list_of_transcations=list_of_transcations\n",
    "        \n",
    "        self.data=\"-\".join(self.list_of_transcations)+\"-\"+self.previous_list\n",
    "        self.final_data_set=hashlib.sha256(self.data.encode()).hexdigest()\n",
    "        \n",
    "\n",
    "\n",
    " # the basic transactions       \n",
    "t1=\"Subrahmany transfer akhila 2NC\"\n",
    "t2=\"hegde transfer sharavan 2NC\"\n",
    "t2=\"Ramu transfer ganis 2NC\"\n",
    "t3=\"Raghu transfer padeep 1NC\"\n",
    "t4=\"Parveen transfer sharavan 6NC\"\n",
    "        \n",
    "        \n",
    "Neural_object=NeuralCoine(\"starting string\",[t1,t2])\n",
    "\n",
    "print(\"FIRST :the basic transctions data:---\",Neural_object.data)\n",
    "print(\"-----------------------------------------------------------------\\nthe hash_code:---\",Neural_object.final_data_set)\n",
    "\n",
    "\n",
    "Neural_object2=NeuralCoine(Neural_object.final_data_set,[t3,t4])\n",
    "print(\"\\nSECOND:the basic transactions informations:\",Neural_object2.data)\n",
    "print(\"-----------------------------------------------------------------\\nthe hash_code:---\",Neural_object2.final_data_set)\n",
    "\n",
    "\n",
    "\n"
   ]
  },
  {
   "cell_type": "code",
   "execution_count": null,
   "id": "bb41d885",
   "metadata": {},
   "outputs": [],
   "source": []
  },
  {
   "cell_type": "code",
   "execution_count": null,
   "id": "e5754816",
   "metadata": {},
   "outputs": [],
   "source": []
  },
  {
   "cell_type": "code",
   "execution_count": null,
   "id": "e036d71c",
   "metadata": {},
   "outputs": [],
   "source": []
  },
  {
   "cell_type": "code",
   "execution_count": null,
   "id": "9ec71df7",
   "metadata": {},
   "outputs": [],
   "source": []
  }
 ],
 "metadata": {
  "kernelspec": {
   "display_name": "Python 3",
   "language": "python",
   "name": "python3"
  },
  "language_info": {
   "codemirror_mode": {
    "name": "ipython",
    "version": 3
   },
   "file_extension": ".py",
   "mimetype": "text/x-python",
   "name": "python",
   "nbconvert_exporter": "python",
   "pygments_lexer": "ipython3",
   "version": "3.8.8"
  }
 },
 "nbformat": 4,
 "nbformat_minor": 5
}
